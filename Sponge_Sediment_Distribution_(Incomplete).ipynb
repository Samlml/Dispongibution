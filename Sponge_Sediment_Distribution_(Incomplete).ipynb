{
 "cells": [
  {
   "cell_type": "markdown",
   "id": "91cca1b7",
   "metadata": {},
   "source": [
    "The following is an incomplete analysis of the distribution of deep-sea sponges based on ocean sediment. It is incomplete due to not leaving enough time for the code which matches each sponge to its sediment to run, with an estimated run time of multiple days."
   ]
  },
  {
   "cell_type": "code",
   "execution_count": null,
   "id": "cc7827fb",
   "metadata": {},
   "outputs": [],
   "source": [
    "#Imports for statistical analysis and database management\n",
    "import numpy as np\n",
    "import pandas as pd\n",
    "import matplotlib.pyplot as plt\n",
    "from scipy import stats\n",
    "\n",
    "#Import needed to open sediment data\n",
    "import netCDF4 as nc4\n",
    "\n",
    "#import for testing code run time\n",
    "import time"
   ]
  },
  {
   "cell_type": "markdown",
   "id": "c8417594",
   "metadata": {},
   "source": [
    "The data used here comes from the NOAA Deep Sea Coral and Sponge Map (https://www.ncei.noaa.gov/products/noaa-deep-sea-coral-and-sponge-map)."
   ]
  },
  {
   "cell_type": "code",
   "execution_count": 4,
   "id": "21b5750b",
   "metadata": {},
   "outputs": [
    {
     "name": "stderr",
     "output_type": "stream",
     "text": [
      "C:\\Users\\Sam She\\AppData\\Local\\Temp\\ipykernel_11508\\2917557790.py:1: DtypeWarning: Columns (5,13,19) have mixed types. Specify dtype option on import or set low_memory=False.\n",
      "  df=pd.read_csv('deep_sea_coral_sponge_data.csv')\n"
     ]
    }
   ],
   "source": [
    "df=pd.read_csv('deep_sea_coral_sponge_data.csv')"
   ]
  },
  {
   "cell_type": "code",
   "execution_count": 5,
   "id": "7c9e6b9f",
   "metadata": {},
   "outputs": [
    {
     "name": "stdout",
     "output_type": "stream",
     "text": [
      "demosponge\n",
      "glass sponge\n",
      "homoscleromorph sponge\n",
      "calcareous sponge\n"
     ]
    }
   ],
   "source": [
    "#create dataframe of just sponges\n",
    "target_sponge_name_list=['demosponge','glass sponge','homoscleromorph sponge','calcareous sponge'] #list of higher sponge clades present, as per vernacular names\n",
    "\n",
    "sponge_df=df[df.VernacularNameCategory=='sponge (unspecified)']\n",
    "for name in target_sponge_name_list:\n",
    "    sponge_df=pd.concat([sponge_df,df[df.VernacularNameCategory==name]])"
   ]
  },
  {
   "cell_type": "code",
   "execution_count": 6,
   "id": "1c020a39",
   "metadata": {},
   "outputs": [],
   "source": [
    "#seperate sponges based on higher clade\n",
    "uncat_df=df[df.VernacularNameCategory=='sponge (unspecified)']\n",
    "demo_df=df[df.VernacularNameCategory=='demosponge']\n",
    "glass_df=df[df.VernacularNameCategory=='glass sponge']\n",
    "homo_df=df[df.VernacularNameCategory=='homoscleromorph sponge']\n",
    "calc_df=df[df.VernacularNameCategory=='calcareous sponge']"
   ]
  },
  {
   "cell_type": "markdown",
   "id": "843aef24",
   "metadata": {},
   "source": [
    "The data used here comes from the GPlatesPortal Seafloor Lithology Map (https://portal.gplates.org/portal/seafloor/)."
   ]
  },
  {
   "cell_type": "code",
   "execution_count": 7,
   "id": "a08a2065",
   "metadata": {},
   "outputs": [
    {
     "name": "stdout",
     "output_type": "stream",
     "text": [
      "dict_keys(['lon', 'lat', 'z'])\n"
     ]
    }
   ],
   "source": [
    "ds = nc4.Dataset('seabed_lithology_v1.nc')\n",
    "\n",
    "#Code needed to prepare dataset for use.\n",
    "lon=ds.variables['lon'][:]\n",
    "lat=ds.variables['lat'][:]\n",
    "z=ds.variables['z'][:,:]\n",
    "\n",
    "ds.close()"
   ]
  },
  {
   "cell_type": "code",
   "execution_count": 8,
   "id": "890af15b",
   "metadata": {},
   "outputs": [],
   "source": [
    "#Dictionaries to match z value of lithology dataset to sediment name.\n",
    "lithology_key={0:'No Data',\n",
    "               1:'Gravel and coarser',2:'Sand',3:'Silt',4:'Clay',\n",
    "               5:'Calcareous Ooze',6:'Radiolarian Ooze',7:'Diatom Ooze',\n",
    "               8:'Sponge Spicules',9:'Mixed Calcareous-Siliceous Ooze',\n",
    "               10:'Shells and Coral Fragments',\n",
    "               11:'Ash and Volcanic Sand/Gravel',\n",
    "               12:'Fine-Grained Calcareous Sediment',13:'Siliceous Mud'}\n",
    "lithology_type_key={'No Data':'No Data',\n",
    "                    'Gravel and coarser':'Siliciclastic','Sand':'Siliciclastic','Silt':'Siliciclastic','Clay':'Siliciclastic',\n",
    "                    'Calcareous Ooze':'Biogenic','Radiolarian Ooze':'Biogenic','Diatom Ooze':'Biogenic',\n",
    "                    'Sponge Spicules':'Biogenic','Mixed Calcareous-Siliceous Ooze':'Biogenic',\n",
    "                    'Shells and Coral Fragments':'Biogenic',\n",
    "                    'Ash and Volcanic Sand/Gravel':'Volcaniclastic',\n",
    "                    'Fine-Grained Calcareous Sediment':'Transitional','Siliceous Mud':'Transitional'}"
   ]
  },
  {
   "cell_type": "code",
   "execution_count": 9,
   "id": "a56801eb",
   "metadata": {},
   "outputs": [],
   "source": [
    "#Function to calculate distance between 2 points on a globe. Provided by Mike Wood.\n",
    "#Lon and Lat variables can be arrays, and if they are, they return an array.\n",
    "\n",
    "def great_circle_distance(lon_ref, lat_ref, Lon, Lat):\n",
    "    earth_radius = 6371000\n",
    "    lon_ref_radians = np.radians(lon_ref)\n",
    "    lat_ref_radians = np.radians(lat_ref)\n",
    "    lons_radians = np.radians(Lon)\n",
    "    lats_radians = np.radians(Lat)\n",
    "    lat_diff = lats_radians - lat_ref_radians\n",
    "    lon_diff = lons_radians - lon_ref_radians\n",
    "    d = np.sin(lat_diff * 0.5) ** 2 + np.cos(lat_ref_radians) * np.cos(lats_radians) * np.sin(lon_diff * 0.5) ** 2\n",
    "    h = 2 * earth_radius * np.arcsin(np.sqrt(d))\n",
    "    return(h)"
   ]
  },
  {
   "cell_type": "code",
   "execution_count": 10,
   "id": "c5ebece9",
   "metadata": {},
   "outputs": [],
   "source": [
    "#Empty arrays to be added to dataframe.\n",
    "blank_sediment_ID=[0]*len(sponge_df)\n",
    "blank_sediment_type=[0]*len(sponge_df)\n",
    "blank_sediment_supertype=[0]*len(sponge_df)"
   ]
  },
  {
   "cell_type": "code",
   "execution_count": 11,
   "id": "0da33b23",
   "metadata": {},
   "outputs": [],
   "source": [
    "#lon and lat arrays made 2d in order to correspond to z values, which exist in a 2d array.\n",
    "lon2d,lat2d=np.meshgrid(lon,lat)\n",
    "\n",
    "#All raveled to be iterable.\n",
    "lon_array=lon2d.ravel()\n",
    "lat_array=lat2d.ravel()\n",
    "z_array=z.ravel()"
   ]
  },
  {
   "cell_type": "markdown",
   "id": "f3789576",
   "metadata": {},
   "source": [
    "Unfortunately, the code created to match up sediment types takes a long time to run, due to the high number of sponges and density of the array. Code is provided below to estimate how long it would take for the function to run by testing with 100 sponges."
   ]
  },
  {
   "cell_type": "code",
   "execution_count": 14,
   "id": "c726f218",
   "metadata": {},
   "outputs": [
    {
     "name": "stdout",
     "output_type": "stream",
     "text": [
      "1\n",
      "2\n",
      "3\n",
      "4\n",
      "5\n",
      "6\n",
      "7\n",
      "8\n",
      "9\n",
      "10\n",
      "11\n",
      "12\n",
      "13\n",
      "14\n",
      "15\n",
      "16\n",
      "17\n",
      "18\n",
      "19\n",
      "20\n",
      "21\n",
      "22\n",
      "23\n",
      "24\n",
      "25\n",
      "26\n",
      "27\n",
      "28\n",
      "29\n",
      "30\n",
      "31\n",
      "32\n",
      "33\n",
      "34\n",
      "35\n",
      "36\n",
      "37\n",
      "38\n",
      "39\n",
      "40\n",
      "41\n",
      "42\n",
      "43\n",
      "44\n",
      "45\n",
      "46\n",
      "47\n",
      "48\n",
      "49\n",
      "50\n",
      "51\n",
      "52\n",
      "53\n",
      "54\n",
      "55\n",
      "56\n",
      "57\n",
      "58\n",
      "59\n",
      "60\n",
      "61\n",
      "62\n",
      "63\n",
      "64\n",
      "65\n",
      "66\n",
      "67\n",
      "68\n",
      "69\n",
      "70\n",
      "71\n",
      "72\n",
      "73\n",
      "74\n",
      "75\n",
      "76\n",
      "77\n",
      "78\n",
      "79\n",
      "80\n",
      "81\n",
      "82\n",
      "83\n",
      "84\n",
      "85\n",
      "86\n",
      "87\n",
      "88\n",
      "89\n",
      "90\n",
      "91\n",
      "92\n",
      "93\n",
      "94\n",
      "95\n",
      "96\n",
      "97\n",
      "98\n",
      "99\n",
      "100\n",
      "The program would take 81.14122030414806 hours to run on your device under current conditions.\n"
     ]
    }
   ],
   "source": [
    "\n",
    "i=0 #used to match position in sponge dataframe to lithology arrays\n",
    "start_time=time.time() #record start time\n",
    "for index,sample in sponge_df.iterrows():\n",
    "    if i<100: #limit to first 100 sponges\n",
    "        #array of distance between raster points and sponge created\n",
    "        dist_vector=great_circle_distance(sample.longitude, sample.latitude, lon_array, lat_array)\n",
    "        z_index=np.argmin(dist_vector) #lowest distance recorded.\n",
    "        sediment_ID=z_array[z_index] #index of lowest distance used to record sediment ID\n",
    "        blank_sediment_ID[i]=sediment_ID #sediment ID recorded in array\n",
    "        try:\n",
    "            lithology=lithology_key[sediment_ID] #sediment ID recorded as sediment type\n",
    "        except:\n",
    "            lithology='No Data' #if sediment ID is invalid due to mask, recorded as no data\n",
    "        blank_sediment_type[i]=lithology #sediment type recorded in array\n",
    "        blank_sediment_supertype[i]=lithology_type_key[lithology] #sediment supertype also recorded\n",
    "        \n",
    "        i+=1 #increment i\n",
    "\n",
    "time_for_100_entries=time.time() - start_time #record total duration in seconds\n",
    "time_for_1_entry=time_for_100_entries/100 #estimate for 1 sponge\n",
    "time_for_all_entries=time_for_1_entry*len(sponge_df.latitude) #estimate for all sponges\n",
    "print(\"The program would take \"+str(time_for_all_entries/(60*60))+\" hours to run on your device under current conditions.\")"
   ]
  },
  {
   "cell_type": "markdown",
   "id": "fbfeb599",
   "metadata": {},
   "source": [
    "The code below is the real version of the code to match the lithology to the sponges."
   ]
  },
  {
   "cell_type": "code",
   "execution_count": null,
   "id": "b523ea0e",
   "metadata": {},
   "outputs": [],
   "source": [
    "i=0 #used to match position in sponge dataframe to lithology arrays\n",
    "\n",
    "for index,sample in sponge_df.iterrows():\n",
    "    #array of distance between raster points and sponge created\n",
    "    dist_vector=great_circle_distance(sample.longitude, sample.latitude, lon_array, lat_array)\n",
    "    z_index=np.argmin(dist_vector) #lowest distance recorded.\n",
    "    sediment_ID=z_array[z_index] #index of lowest distance used to record sediment ID\n",
    "    blank_sediment_ID[i]=sediment_ID #sediment ID recorded in array\n",
    "    try:\n",
    "        lithology=lithology_key[sediment_ID] #sediment ID recorded as sediment type\n",
    "    except:\n",
    "        lithology='No Data' #if sediment ID is invalid due to mask, recorded as no data\n",
    "    blank_sediment_type[i]=lithology #sediment type recorded in array\n",
    "    blank_sediment_supertype[i]=lithology_type_key[lithology] #sediment supertype also recorded\n",
    "    \n",
    "    #Print statements to see progress. Reports every 10 (if below 100), 100 (if below 1000), or 1000 sponges.\n",
    "    i+=1\n",
    "    if i<100:\n",
    "        if i%10==0:\n",
    "            print(i)\n",
    "    elif i<1000:\n",
    "        if i%100==0:\n",
    "            print(i)\n",
    "    elif i%1000==0:\n",
    "        print(i)\n",
    "\n",
    "\n",
    "sponge_df['sediment_ID']=blank_sediment_ID\n",
    "sponge_df['sediment_type']=blank_sediment_type\n",
    "sponge_df['sediment_supertype']=blank_sediment_supertype"
   ]
  }
 ],
 "metadata": {
  "kernelspec": {
   "display_name": "Python 3 (ipykernel)",
   "language": "python",
   "name": "python3"
  },
  "language_info": {
   "codemirror_mode": {
    "name": "ipython",
    "version": 3
   },
   "file_extension": ".py",
   "mimetype": "text/x-python",
   "name": "python",
   "nbconvert_exporter": "python",
   "pygments_lexer": "ipython3",
   "version": "3.10.8"
  }
 },
 "nbformat": 4,
 "nbformat_minor": 5
}
